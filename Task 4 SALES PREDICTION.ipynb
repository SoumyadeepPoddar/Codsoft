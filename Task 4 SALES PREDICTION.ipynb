{
 "cells": [
  {
   "cell_type": "markdown",
   "id": "5191387d",
   "metadata": {},
   "source": [
    "## Sales Prediction using Python\n",
    "\n",
    "### Algorithms used: Linear Regression, Random Forest Regressor"
   ]
  },
  {
   "cell_type": "code",
   "execution_count": 1,
   "id": "d5fe4f6f",
   "metadata": {},
   "outputs": [],
   "source": [
    "import pandas as pd\n",
    "from sklearn.model_selection import train_test_split\n",
    "from sklearn.linear_model import LinearRegression\n",
    "from sklearn.ensemble import RandomForestRegressor\n",
    "from sklearn.metrics import mean_squared_error, r2_score"
   ]
  },
  {
   "cell_type": "markdown",
   "id": "9873654c",
   "metadata": {},
   "source": [
    "#### Importing the dataset"
   ]
  },
  {
   "cell_type": "code",
   "execution_count": 2,
   "id": "dd596c5f",
   "metadata": {},
   "outputs": [],
   "source": [
    "df=pd.read_csv(\"advertising.csv\")"
   ]
  },
  {
   "cell_type": "markdown",
   "id": "01a09473",
   "metadata": {},
   "source": [
    "#### First 5 rows"
   ]
  },
  {
   "cell_type": "code",
   "execution_count": 3,
   "id": "e424adb9",
   "metadata": {},
   "outputs": [
    {
     "data": {
      "text/html": [
       "<div>\n",
       "<style scoped>\n",
       "    .dataframe tbody tr th:only-of-type {\n",
       "        vertical-align: middle;\n",
       "    }\n",
       "\n",
       "    .dataframe tbody tr th {\n",
       "        vertical-align: top;\n",
       "    }\n",
       "\n",
       "    .dataframe thead th {\n",
       "        text-align: right;\n",
       "    }\n",
       "</style>\n",
       "<table border=\"1\" class=\"dataframe\">\n",
       "  <thead>\n",
       "    <tr style=\"text-align: right;\">\n",
       "      <th></th>\n",
       "      <th>TV</th>\n",
       "      <th>Radio</th>\n",
       "      <th>Newspaper</th>\n",
       "      <th>Sales</th>\n",
       "    </tr>\n",
       "  </thead>\n",
       "  <tbody>\n",
       "    <tr>\n",
       "      <th>0</th>\n",
       "      <td>230.1</td>\n",
       "      <td>37.8</td>\n",
       "      <td>69.2</td>\n",
       "      <td>22.1</td>\n",
       "    </tr>\n",
       "    <tr>\n",
       "      <th>1</th>\n",
       "      <td>44.5</td>\n",
       "      <td>39.3</td>\n",
       "      <td>45.1</td>\n",
       "      <td>10.4</td>\n",
       "    </tr>\n",
       "    <tr>\n",
       "      <th>2</th>\n",
       "      <td>17.2</td>\n",
       "      <td>45.9</td>\n",
       "      <td>69.3</td>\n",
       "      <td>12.0</td>\n",
       "    </tr>\n",
       "    <tr>\n",
       "      <th>3</th>\n",
       "      <td>151.5</td>\n",
       "      <td>41.3</td>\n",
       "      <td>58.5</td>\n",
       "      <td>16.5</td>\n",
       "    </tr>\n",
       "    <tr>\n",
       "      <th>4</th>\n",
       "      <td>180.8</td>\n",
       "      <td>10.8</td>\n",
       "      <td>58.4</td>\n",
       "      <td>17.9</td>\n",
       "    </tr>\n",
       "  </tbody>\n",
       "</table>\n",
       "</div>"
      ],
      "text/plain": [
       "      TV  Radio  Newspaper  Sales\n",
       "0  230.1   37.8       69.2   22.1\n",
       "1   44.5   39.3       45.1   10.4\n",
       "2   17.2   45.9       69.3   12.0\n",
       "3  151.5   41.3       58.5   16.5\n",
       "4  180.8   10.8       58.4   17.9"
      ]
     },
     "execution_count": 3,
     "metadata": {},
     "output_type": "execute_result"
    }
   ],
   "source": [
    "df.head()"
   ]
  },
  {
   "cell_type": "markdown",
   "id": "6f275e76",
   "metadata": {},
   "source": [
    "The `shape` returns the dimensions: 200 rows and 4 columns."
   ]
  },
  {
   "cell_type": "code",
   "execution_count": 4,
   "id": "bf7f57b2",
   "metadata": {},
   "outputs": [
    {
     "data": {
      "text/plain": [
       "(200, 4)"
      ]
     },
     "execution_count": 4,
     "metadata": {},
     "output_type": "execute_result"
    }
   ],
   "source": [
    "df.shape"
   ]
  },
  {
   "cell_type": "markdown",
   "id": "44d3ee93",
   "metadata": {},
   "source": [
    "#### Checking for null values.\n",
    "\n",
    "There are none."
   ]
  },
  {
   "cell_type": "code",
   "execution_count": 5,
   "id": "9fdc154d",
   "metadata": {},
   "outputs": [
    {
     "data": {
      "text/plain": [
       "TV           0\n",
       "Radio        0\n",
       "Newspaper    0\n",
       "Sales        0\n",
       "dtype: int64"
      ]
     },
     "execution_count": 5,
     "metadata": {},
     "output_type": "execute_result"
    }
   ],
   "source": [
    "df.isnull().sum()"
   ]
  },
  {
   "cell_type": "markdown",
   "id": "d937b467",
   "metadata": {},
   "source": [
    "### Initialising the predictor matrix and the dependent variable.\n",
    "\n",
    "Predictors: TV, radio and newspaper.\n",
    "\n",
    "Dependent variable: Sales."
   ]
  },
  {
   "cell_type": "code",
   "execution_count": 6,
   "id": "bed982ae",
   "metadata": {},
   "outputs": [],
   "source": [
    "X = df.drop('Sales', axis=1)\n",
    "y = df['Sales']"
   ]
  },
  {
   "cell_type": "markdown",
   "id": "35293011",
   "metadata": {},
   "source": [
    "#### Splitting the dataset into training and testing sets."
   ]
  },
  {
   "cell_type": "code",
   "execution_count": 7,
   "id": "b4c11a28",
   "metadata": {},
   "outputs": [],
   "source": [
    "X_train, X_test, y_train, y_test = train_test_split(X, y, test_size=0.2, random_state=417)"
   ]
  },
  {
   "cell_type": "markdown",
   "id": "dbfdd700",
   "metadata": {},
   "source": [
    "## Linear Regression"
   ]
  },
  {
   "cell_type": "code",
   "execution_count": 8,
   "id": "37f7eb6f",
   "metadata": {},
   "outputs": [
    {
     "name": "stdout",
     "output_type": "stream",
     "text": [
      "Mean Squared Error: 3.8192557529507924\n",
      "R-squared Score: 0.8847298781765348\n"
     ]
    }
   ],
   "source": [
    "# Create a linear regression model and fit it to the training data\n",
    "model_lin = LinearRegression()\n",
    "model_lin.fit(X_train, y_train)\n",
    "\n",
    "# Make predictions on the test set\n",
    "y_pred = model_lin.predict(X_test)\n",
    "\n",
    "# Calculate metrics\n",
    "mse_lin = mean_squared_error(y_test, y_pred)\n",
    "r2_lin = r2_score(y_test, y_pred)\n",
    "\n",
    "print('Mean Squared Error:', mse_lin)\n",
    "print('R-squared Score:', r2_lin)"
   ]
  },
  {
   "cell_type": "markdown",
   "id": "ab3838ee",
   "metadata": {},
   "source": [
    "## Random Forest Regressor"
   ]
  },
  {
   "cell_type": "code",
   "execution_count": 9,
   "id": "a55bdc58",
   "metadata": {},
   "outputs": [
    {
     "name": "stdout",
     "output_type": "stream",
     "text": [
      "Mean Squared Error: 2.3330039499999975\n",
      "R-squared Score: 0.9295868967865399\n"
     ]
    }
   ],
   "source": [
    "model_rfr = RandomForestRegressor(n_estimators=100, random_state=417) \n",
    "# n_estimators: This parameter determines the number of decision trees that will be used in the Random Forest ensemble. \n",
    "\n",
    "model_rfr.fit(X_train, y_train)\n",
    "\n",
    "# Make predictions on the test set\n",
    "y_pred = model_rfr.predict(X_test)\n",
    "\n",
    "# Calculate metrics\n",
    "mse_rfr = mean_squared_error(y_test, y_pred)\n",
    "r2_rfr = r2_score(y_test, y_pred)\n",
    "\n",
    "print('Mean Squared Error:', mse_rfr)\n",
    "print('R-squared Score:', r2_rfr)"
   ]
  },
  {
   "cell_type": "markdown",
   "id": "021cbbba",
   "metadata": {},
   "source": [
    "### Let's compile the different performance metrics of the two algorithms in a single dataframe for comparison."
   ]
  },
  {
   "cell_type": "code",
   "execution_count": 10,
   "id": "292cb905",
   "metadata": {},
   "outputs": [
    {
     "name": "stdout",
     "output_type": "stream",
     "text": [
      "                         R-squared       MSE\n",
      "Linear Regression         0.884730  3.819256\n",
      "Random Forest Regressor   0.929587  2.333004\n"
     ]
    }
   ],
   "source": [
    "lin_reg={\n",
    "    \"R-squared\":r2_lin,\n",
    "    \"MSE\":mse_lin,\n",
    "}\n",
    "rfr={\n",
    "    \"R-squared\":r2_rfr,\n",
    "    \"MSE\":mse_rfr,\n",
    "}\n",
    "combined_metrics={\n",
    "    'Linear Regression':lin_reg,\n",
    "    'Random Forest Regressor':rfr\n",
    "}\n",
    "# Creating a DataFrame from the combined_metrics dictionary\n",
    "df_metrics = pd.DataFrame(combined_metrics)\n",
    "\n",
    "# Transpose the DataFrame for a more readable format\n",
    "df_metrics = df_metrics.transpose()\n",
    "\n",
    "# Display the DataFrame\n",
    "print(df_metrics)"
   ]
  },
  {
   "cell_type": "markdown",
   "id": "9982cda3",
   "metadata": {},
   "source": [
    "### Conclusion:\n",
    "\n",
    "Random Forest Regressor performs better than linear regression."
   ]
  }
 ],
 "metadata": {
  "kernelspec": {
   "display_name": "Python 3 (ipykernel)",
   "language": "python",
   "name": "python3"
  },
  "language_info": {
   "codemirror_mode": {
    "name": "ipython",
    "version": 3
   },
   "file_extension": ".py",
   "mimetype": "text/x-python",
   "name": "python",
   "nbconvert_exporter": "python",
   "pygments_lexer": "ipython3",
   "version": "3.11.1"
  }
 },
 "nbformat": 4,
 "nbformat_minor": 5
}

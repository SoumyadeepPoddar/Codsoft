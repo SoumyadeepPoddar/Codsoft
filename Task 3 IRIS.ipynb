{
 "cells": [
  {
   "cell_type": "markdown",
   "id": "2ad240c7",
   "metadata": {},
   "source": [
    "## Iris Flower Classification\n",
    "\n",
    "### Classification algorithms used: Logistic Regression, Support Vector Machine, Random Forest Classifier"
   ]
  },
  {
   "cell_type": "code",
   "execution_count": 1,
   "id": "348f91be",
   "metadata": {},
   "outputs": [],
   "source": [
    "import pandas as pd\n",
    "from sklearn.model_selection import train_test_split\n",
    "from sklearn.preprocessing import StandardScaler\n",
    "from sklearn.linear_model import LogisticRegression\n",
    "from sklearn.svm import SVC\n",
    "from sklearn.ensemble import RandomForestClassifier\n",
    "from sklearn.metrics import accuracy_score,confusion_matrix,precision_score,recall_score,f1_score"
   ]
  },
  {
   "cell_type": "markdown",
   "id": "ef0b27f4",
   "metadata": {},
   "source": [
    "#### Loading the dataset."
   ]
  },
  {
   "cell_type": "code",
   "execution_count": 2,
   "id": "dc7d3c80",
   "metadata": {},
   "outputs": [
    {
     "name": "stdout",
     "output_type": "stream",
     "text": [
      "Unique Species:\n",
      "['Iris-setosa' 'Iris-versicolor' 'Iris-virginica']\n"
     ]
    }
   ],
   "source": [
    "data = pd.read_csv('raw.githubusercontent.com_amankharwal_Website-data_master_IRIS.csv')\n",
    "\n",
    "unique_species = data['species'].unique()\n",
    "print(\"Unique Species:\")\n",
    "print(unique_species)"
   ]
  },
  {
   "cell_type": "markdown",
   "id": "4a895452",
   "metadata": {},
   "source": [
    "There are three unique species so it is a `multi category classification algorithm.`"
   ]
  },
  {
   "cell_type": "markdown",
   "id": "4047dcef",
   "metadata": {},
   "source": [
    "#### Initialising the predictor matrix and the dependent variable."
   ]
  },
  {
   "cell_type": "code",
   "execution_count": 3,
   "id": "e1add20f",
   "metadata": {},
   "outputs": [],
   "source": [
    "X = data.drop('species', axis=1)\n",
    "y = data['species']"
   ]
  },
  {
   "cell_type": "markdown",
   "id": "d6d6a071",
   "metadata": {},
   "source": [
    "#### Splitting the dataset into training and testing sets in 70:30 ratio."
   ]
  },
  {
   "cell_type": "code",
   "execution_count": 4,
   "id": "369f2b3c",
   "metadata": {},
   "outputs": [],
   "source": [
    "X_train, X_test, y_train, y_test = train_test_split(X, y, test_size=0.3,random_state=123)"
   ]
  },
  {
   "cell_type": "markdown",
   "id": "0486f461",
   "metadata": {},
   "source": [
    "#### Feature Scaling is done as scaling the features ensures that all features are on a similar scale, which can lead to better convergence and performance of the model. "
   ]
  },
  {
   "cell_type": "code",
   "execution_count": 5,
   "id": "3b7360fb",
   "metadata": {},
   "outputs": [],
   "source": [
    "scaler = StandardScaler()\n",
    "X_train = scaler.fit_transform(X_train)\n",
    "X_test = scaler.transform(X_test)"
   ]
  },
  {
   "cell_type": "markdown",
   "id": "bf12c6d8",
   "metadata": {},
   "source": [
    "## Logistic Regression"
   ]
  },
  {
   "cell_type": "code",
   "execution_count": 6,
   "id": "8599054f",
   "metadata": {},
   "outputs": [
    {
     "name": "stdout",
     "output_type": "stream",
     "text": [
      "Accuracy: 0.9777777777777777\n",
      "Precision: 0.9797979797979799\n",
      "Recall: 0.9777777777777777\n",
      "F1-Score: 0.977970177970178\n",
      "Confusion Matrix:\n",
      "[[18  0  0]\n",
      " [ 0 10  0]\n",
      " [ 0  1 16]]\n"
     ]
    }
   ],
   "source": [
    "model_log = LogisticRegression()\n",
    "\n",
    "# Train the model\n",
    "model_log.fit(X_train, y_train)\n",
    "\n",
    "# Make predictions\n",
    "y_pred = model_log.predict(X_test)\n",
    "\n",
    "# Evaluate the model\n",
    "accuracy_log = accuracy_score(y_test, y_pred)\n",
    "cm_log = confusion_matrix(y_test, y_pred)\n",
    "precision_log = precision_score(y_test, y_pred, average='weighted')  # 'weighted' for multi-class\n",
    "recall_log = recall_score(y_test, y_pred, average='weighted')\n",
    "f1_log = f1_score(y_test, y_pred, average='weighted')\n",
    "\n",
    "# priting results\n",
    "print(\"Accuracy:\", accuracy_log)\n",
    "print(\"Precision:\", precision_log)\n",
    "print(\"Recall:\", recall_log)\n",
    "print(\"F1-Score:\", f1_log)\n",
    "print(\"Confusion Matrix:\")\n",
    "print(cm_log)"
   ]
  },
  {
   "cell_type": "markdown",
   "id": "6ad990aa",
   "metadata": {},
   "source": [
    "## Support Vector Machine (SVM)"
   ]
  },
  {
   "cell_type": "code",
   "execution_count": 7,
   "id": "fa25fdf5",
   "metadata": {},
   "outputs": [
    {
     "name": "stdout",
     "output_type": "stream",
     "text": [
      "Accuracy: 0.9555555555555556\n",
      "Precision: 0.962962962962963\n",
      "Recall: 0.9555555555555556\n",
      "F1-Score: 0.9561868686868688\n",
      "Confusion Matrix:\n",
      "[[18  0  0]\n",
      " [ 0 10  0]\n",
      " [ 0  2 15]]\n"
     ]
    }
   ],
   "source": [
    "model_svc = SVC()\n",
    "# Train the model\n",
    "model_svc.fit(X_train, y_train)\n",
    "\n",
    "# Make predictions\n",
    "y_pred = model_svc.predict(X_test)\n",
    "\n",
    "# Evaluate the model\n",
    "accuracy_svc = accuracy_score(y_test, y_pred)\n",
    "cm_svc = confusion_matrix(y_test, y_pred)\n",
    "precision_svc = precision_score(y_test, y_pred, average='weighted')  # 'weighted' for multi-class\n",
    "recall_svc = recall_score(y_test, y_pred, average='weighted')\n",
    "f1_svc = f1_score(y_test, y_pred, average='weighted')\n",
    "\n",
    "# priting results\n",
    "print(\"Accuracy:\", accuracy_svc)\n",
    "print(\"Precision:\", precision_svc)\n",
    "print(\"Recall:\", recall_svc)\n",
    "print(\"F1-Score:\", f1_svc)\n",
    "print(\"Confusion Matrix:\")\n",
    "print(cm_svc)"
   ]
  },
  {
   "cell_type": "markdown",
   "id": "481ca7fe",
   "metadata": {},
   "source": [
    "## Random Forest Classifier"
   ]
  },
  {
   "cell_type": "code",
   "execution_count": 8,
   "id": "0fbd73bb",
   "metadata": {},
   "outputs": [
    {
     "name": "stdout",
     "output_type": "stream",
     "text": [
      "Accuracy: 0.9555555555555556\n",
      "Precision: 0.962962962962963\n",
      "Recall: 0.9555555555555556\n",
      "F1-Score: 0.9561868686868688\n",
      "Confusion Matrix:\n",
      "[[18  0  0]\n",
      " [ 0 10  0]\n",
      " [ 0  2 15]]\n"
     ]
    }
   ],
   "source": [
    "model_rfc = RandomForestClassifier()\n",
    "\n",
    "model_rfc.fit(X_train, y_train)\n",
    "\n",
    "# Make predictions\n",
    "y_pred = model_rfc.predict(X_test)\n",
    "\n",
    "# Evaluate the model\n",
    "accuracy_rfc = accuracy_score(y_test, y_pred)\n",
    "cm_rfc = confusion_matrix(y_test, y_pred)\n",
    "precision_rfc = precision_score(y_test, y_pred, average='weighted')  # 'weighted' for multi-class\n",
    "recall_rfc = recall_score(y_test, y_pred, average='weighted')  # 'weighted' for multi-class\n",
    "f1_rfc = f1_score(y_test, y_pred, average='weighted')  # 'weighted' for multi-class\n",
    "\n",
    "# priting results\n",
    "print(\"Accuracy:\", accuracy_rfc)\n",
    "print(\"Precision:\", precision_rfc)\n",
    "print(\"Recall:\", recall_rfc)\n",
    "print(\"F1-Score:\", f1_rfc)\n",
    "print(\"Confusion Matrix:\")\n",
    "print(cm_rfc)"
   ]
  },
  {
   "cell_type": "markdown",
   "id": "d266cb2f",
   "metadata": {},
   "source": [
    "### Let's compile the different performance metrics of the three algorithms in a single dataframe for comparison."
   ]
  },
  {
   "cell_type": "code",
   "execution_count": 9,
   "id": "fabe2a55",
   "metadata": {},
   "outputs": [
    {
     "name": "stdout",
     "output_type": "stream",
     "text": [
      "                     Accuracy  Precision    Recall  F1 score\n",
      "Logistic Regression  0.977778   0.979798  0.977778  0.977970\n",
      "SVM                  0.955556   0.962963  0.955556  0.956187\n",
      "Random Forest        0.955556   0.962963  0.955556  0.956187\n"
     ]
    }
   ],
   "source": [
    "log = {\n",
    "    \"Accuracy\": accuracy_log,\n",
    "    'Precision': precision_log,\n",
    "    'Recall': recall_log,\n",
    "    'F1 score': f1_log,\n",
    "}\n",
    "\n",
    "svm={\n",
    "    'Accuracy': accuracy_svc,\n",
    "    'Precision':precision_svc,\n",
    "    'Recall': recall_svc,\n",
    "    'F1 score': f1_svc,\n",
    "}\n",
    "\n",
    "rfc={\n",
    "    'Accuracy': accuracy_rfc,\n",
    "    'Precision':precision_rfc,\n",
    "    'Recall': recall_rfc,\n",
    "    'F1 score': f1_rfc,\n",
    "}\n",
    "\n",
    "combined_metrics = {\n",
    "    'Logistic Regression': log,\n",
    "    'SVM': svm,\n",
    "    'Random Forest': rfc\n",
    "}\n",
    "\n",
    "# Creating a DataFrame from the combined_metrics dictionary\n",
    "df_metrics = pd.DataFrame(combined_metrics)\n",
    "\n",
    "# Transpose the DataFrame for a more readable format\n",
    "df_metrics = df_metrics.transpose()\n",
    "\n",
    "# Display the DataFrame\n",
    "print(df_metrics)"
   ]
  },
  {
   "cell_type": "code",
   "execution_count": null,
   "id": "37a2ae43",
   "metadata": {},
   "outputs": [],
   "source": []
  }
 ],
 "metadata": {
  "kernelspec": {
   "display_name": "Python 3 (ipykernel)",
   "language": "python",
   "name": "python3"
  },
  "language_info": {
   "codemirror_mode": {
    "name": "ipython",
    "version": 3
   },
   "file_extension": ".py",
   "mimetype": "text/x-python",
   "name": "python",
   "nbconvert_exporter": "python",
   "pygments_lexer": "ipython3",
   "version": "3.11.1"
  }
 },
 "nbformat": 4,
 "nbformat_minor": 5
}
